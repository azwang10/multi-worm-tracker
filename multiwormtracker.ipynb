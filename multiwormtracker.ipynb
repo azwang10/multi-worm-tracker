{
 "cells": [
  {
   "cell_type": "markdown",
   "id": "3fc0c05e-ea4c-4235-a00c-8c43fee6703b",
   "metadata": {},
   "source": [
    "## A Minimal \"MultiWormTracker\"\n",
    "\n",
    "I don't like MATLAB, so I wrote this.\n",
    "\n",
    "Given an input `.avi` file, this notebook will output the position for each worm at each frame in a `.csv` file. Does not extract any other features or extrapolate between frames where a worm is lost. Edit the parameters in ALL CAPS to fit to your data."
   ]
  },
  {
   "cell_type": "code",
   "execution_count": null,
   "id": "5db452d5-13e1-4124-97e3-e1478aa7b150",
   "metadata": {},
   "outputs": [],
   "source": [
    "from mwt import *"
   ]
  },
  {
   "cell_type": "markdown",
   "id": "5091d35e-0e71-40e3-b035-ec84c70d57f1",
   "metadata": {},
   "source": [
    "### 1 Locate files [EDIT]\n",
    "\n",
    "The notebook requires a scratch directory with a lot of storage that will be filled with the `.avi` file converted into `.tif` for each individual frame. In my hands, 35 GB was used for a 45 min recording"
   ]
  },
  {
   "cell_type": "code",
   "execution_count": null,
   "id": "96097275-750e-46b5-82f9-c2f8f5ef8ebb",
   "metadata": {},
   "outputs": [],
   "source": [
    "#EDIT, filenames with spaces don't quite work and so please replace with underscores first\n",
    "INPUT_AVI = '/Volumes/UNTITLED/8.8.24_leaving_assay_N2_2.avi'\n",
    "SCRATCH_PATH = '/Volumes/UNTITLED'\n",
    "OUTPUT_PATH = '/Users/albertwang/Desktop'\n",
    "FRAME_LIMIT = None\n",
    "\n",
    "if not os.path.isfile(INPUT_AVI):\n",
    "    raise FileNotFoundError()"
   ]
  },
  {
   "cell_type": "markdown",
   "id": "f89690dc-bd14-4768-ba0d-bd51ae5e2f83",
   "metadata": {},
   "source": [
    "### 2 Initialize scratch directory"
   ]
  },
  {
   "cell_type": "code",
   "execution_count": null,
   "id": "ac4f9a79-fd52-43f5-97a1-acd87f1306b1",
   "metadata": {},
   "outputs": [],
   "source": [
    "scratch_dir = make_scratch_dir(INPUT_AVI, SCRATCH_PATH)\n",
    "scratch_dir"
   ]
  },
  {
   "cell_type": "markdown",
   "id": "67672961-fd0e-46ce-a0db-bd09bafeb44d",
   "metadata": {},
   "source": [
    "### 3 Convert `.avi` to `.tif` with `ffmpeg` (<5 min for a 45 min recording on my laptop)"
   ]
  },
  {
   "cell_type": "code",
   "execution_count": null,
   "id": "2e2aac1d-662f-4059-9e3d-f68dd2845567",
   "metadata": {},
   "outputs": [],
   "source": [
    "%%time\n",
    "\n",
    "#comment if not needed\n",
    "convert_to_tif(INPUT_AVI, scratch_dir, FRAME_LIMIT)"
   ]
  },
  {
   "cell_type": "markdown",
   "id": "9aac12b2-aa87-4704-80e7-acc6832f62ac",
   "metadata": {},
   "source": [
    "### 4 Generate a mask that's the mean out of an equally sampled 100 frames in the recording"
   ]
  },
  {
   "cell_type": "code",
   "execution_count": null,
   "id": "1926d137-8868-4d18-85cc-c4f88ef23200",
   "metadata": {},
   "outputs": [],
   "source": [
    "%%time\n",
    "\n",
    "#comment if not needed\n",
    "make_mask(scratch_dir)\n",
    "\n",
    "#for plotting\n",
    "mask = show_mask(scratch_dir)"
   ]
  },
  {
   "cell_type": "markdown",
   "id": "cca88bb5-91c5-4910-a813-8e3327c631fc",
   "metadata": {},
   "source": [
    "### 5 Try out worm detection parameters first [EDIT] STOP AFTER THIS CELL TO MAKE SURE THE THRESHOLD PARAMETER IS RIGHT FOR THE DATA\n",
    "\n",
    "This cell first detects blobs on a frame by subtracting each frame from the mean masking frame above and then thresholds that difference frame. A gaussian filter is also applied in between (which may actually be unnessary, but I feel makes the blob detection more robust). It then chooses which blobs are worms by just picking ones that are roughly the size of a worm and also uses an eccentricity cutoff remove any features that may be from the edge of the plate.\n",
    "\n",
    "Definitely edit these parameters!"
   ]
  },
  {
   "cell_type": "code",
   "execution_count": null,
   "id": "cdc05e2c-28e2-40e6-a98d-c9f7a042af68",
   "metadata": {},
   "outputs": [],
   "source": [
    "#EDIT\n",
    "SIGMA = 2 #can just be kept as two\n",
    "THRESHOLD = 12 #THE MOST IMPORTANT PARAMETER AND NEEDS TO BE ADJUSTED FOR EACH VIDEO TO MAKE THE AVERAGE AREA OF A WORM ROUGHLY 100 px\n",
    "#I'VE BEEN PICKING EVEN NUMBERS BETWEEN 8 and 14\n",
    "AREA_RANGE = (25, 175) #can just be kept in this range\n",
    "ECCENTRICITY_RANGE = (0, 0.99) #can also just be kept in this range (just meant to cut out any plate artifacts)\n",
    "\n",
    "check_params(scratch_dir, mask, SIGMA, THRESHOLD, AREA_RANGE, ECCENTRICITY_RANGE, rows=10)"
   ]
  },
  {
   "cell_type": "markdown",
   "id": "8959ac1e-ffe2-4cda-bc97-5fb1cdad5cde",
   "metadata": {},
   "source": [
    "### 6 Detect worms for each frame (<6 min for a 45 min recording on my laptop)"
   ]
  },
  {
   "cell_type": "code",
   "execution_count": null,
   "id": "52d54144-e402-42fd-9905-8de44c7a63fb",
   "metadata": {},
   "outputs": [],
   "source": [
    "%%time\n",
    "\n",
    "#comment if not needed\n",
    "detect_worms(scratch_dir, mask, SIGMA, THRESHOLD, AREA_RANGE, ECCENTRICITY_RANGE)\n",
    "\n",
    "#for plotting\n",
    "plot_worms(scratch_dir)"
   ]
  },
  {
   "cell_type": "markdown",
   "id": "fe117b2a-6c7c-45e8-be3e-f5efc5ad37c6",
   "metadata": {},
   "source": [
    "### 7 Link `.csv` (<1 min for a 45 min recording on my laptop)"
   ]
  },
  {
   "cell_type": "code",
   "execution_count": null,
   "id": "66d2cf6b-1d94-4d60-ae3d-1d35aff2fc5b",
   "metadata": {},
   "outputs": [],
   "source": [
    "%%time\n",
    "\n",
    "#EDIT IF NEEDED (YOU PROBABLY DONT)\n",
    "SEPERATION = 15\n",
    "\n",
    "#comment if not needed\n",
    "link_worms(scratch_dir, SEPERATION)\n",
    "\n",
    "#for plotting\n",
    "plot_untrimmed(scratch_dir)"
   ]
  },
  {
   "cell_type": "markdown",
   "id": "6f38c287-2e03-44ad-a52d-92f450cf0d38",
   "metadata": {},
   "source": [
    "### 8 Trim out short tracks\n",
    "\n",
    "Removes tracks that are too short and move too little"
   ]
  },
  {
   "cell_type": "code",
   "execution_count": null,
   "id": "54be0055-c762-4075-91bf-52137954b83e",
   "metadata": {},
   "outputs": [],
   "source": [
    "#EDIT IF NEEDED (YOU PROBABLY DONT)\n",
    "MIN_FRAMES_SEEN = 100\n",
    "MIN_AREA_TRAVELED = 20\n",
    "\n",
    "#comment if not needed\n",
    "trim_csv(scratch_dir, MIN_FRAMES_SEEN, MIN_AREA_TRAVELED)\n",
    "\n",
    "#for plotting\n",
    "plot_trimmed(scratch_dir)"
   ]
  },
  {
   "cell_type": "markdown",
   "id": "e7b3068c-e45d-46f3-b09d-664e7ecd77c9",
   "metadata": {},
   "source": [
    "### 9 One final visualization"
   ]
  },
  {
   "cell_type": "code",
   "execution_count": null,
   "id": "b2668021-cc86-4c86-a1c5-e33d73e19b3c",
   "metadata": {},
   "outputs": [],
   "source": [
    "%%time\n",
    "\n",
    "#for plotting\n",
    "plot_tracks(scratch_dir, mask)"
   ]
  },
  {
   "cell_type": "markdown",
   "id": "2f1b3f89-cd86-4e3a-90cc-eadd3deedb3d",
   "metadata": {},
   "source": [
    "### 10 Copy all files to the output folder"
   ]
  },
  {
   "cell_type": "code",
   "execution_count": null,
   "id": "fe0dc2b9-fa64-4be3-bd03-362794300771",
   "metadata": {},
   "outputs": [],
   "source": [
    "%%time\n",
    "\n",
    "save_params(scratch_dir, SIGMA, THRESHOLD, AREA_RANGE, ECCENTRICITY_RANGE, SEPERATION, MIN_FRAMES_SEEN, MIN_AREA_TRAVELED)\n",
    "copy_to_output(INPUT_AVI, OUTPUT_PATH, scratch_dir)"
   ]
  },
  {
   "cell_type": "code",
   "execution_count": null,
   "id": "a7b6642f-ccf1-49ba-810e-b49ea776b0df",
   "metadata": {},
   "outputs": [],
   "source": []
  }
 ],
 "metadata": {
  "kernelspec": {
   "display_name": "Python 3 (ipykernel)",
   "language": "python",
   "name": "python3"
  },
  "language_info": {
   "codemirror_mode": {
    "name": "ipython",
    "version": 3
   },
   "file_extension": ".py",
   "mimetype": "text/x-python",
   "name": "python",
   "nbconvert_exporter": "python",
   "pygments_lexer": "ipython3",
   "version": "3.10.14"
  }
 },
 "nbformat": 4,
 "nbformat_minor": 5
}
